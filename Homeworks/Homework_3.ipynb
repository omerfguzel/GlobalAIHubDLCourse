{
  "nbformat": 4,
  "nbformat_minor": 0,
  "metadata": {
    "colab": {
      "name": "Homework_3.ipynb",
      "provenance": [],
      "collapsed_sections": [
        "UolsLXSQczHh",
        "thEIzUfFczHy",
        "weHnDsMoczKO",
        "nbjj4YUAczKW",
        "vsIaUMRIczKb",
        "KvGFyAkjczKj"
      ]
    },
    "language_info": {
      "mimetype": "text/x-python",
      "nbconvert_exporter": "python",
      "name": "python",
      "file_extension": ".py",
      "version": "3.5.4",
      "pygments_lexer": "ipython3",
      "codemirror_mode": {
        "version": 3,
        "name": "ipython"
      }
    },
    "kernelspec": {
      "name": "python3",
      "display_name": "Python 3"
    },
    "accelerator": "GPU"
  },
  "cells": [
    {
      "cell_type": "markdown",
      "metadata": {
        "id": "6Xd6IQ1ZczKO"
      },
      "source": [
        "# Design Choices in Convolutional Neural Networks\r\n",
        "\r\n",
        "# **All examples below, I got very low accuracy values with optimizer Adadelta. So I had to change it to Adam.** \r\n",
        "# **Ömer Faruk Güzel**"
      ]
    },
    {
      "cell_type": "markdown",
      "metadata": {
        "id": "UolsLXSQczHh"
      },
      "source": [
        "###  Importing packages"
      ]
    },
    {
      "cell_type": "code",
      "metadata": {
        "trusted": true,
        "id": "kwe0QooaczHk"
      },
      "source": [
        "import numpy as np\n",
        "import keras\n",
        "from keras.datasets import mnist\n",
        "from keras.models import Sequential\n",
        "from keras.layers import Dense, Dropout, Flatten, Conv2D, MaxPooling2D\n",
        "from keras import backend as K\n",
        "from keras.preprocessing import image\n",
        "from keras.applications.mobilenet import MobileNet\n",
        "from keras.applications.vgg16 import preprocess_input, decode_predictions\n",
        "from keras.models import Model\n",
        "import timeit\n",
        "\n",
        "import warnings\n",
        "warnings.filterwarnings('ignore')"
      ],
      "execution_count": 1,
      "outputs": []
    },
    {
      "cell_type": "markdown",
      "metadata": {
        "id": "thEIzUfFczHy"
      },
      "source": [
        "### Preparing Dataset"
      ]
    },
    {
      "cell_type": "code",
      "metadata": {
        "trusted": true,
        "id": "-s6iKY5QczH0",
        "colab": {
          "base_uri": "https://localhost:8080/"
        },
        "outputId": "405070b6-35d5-4a55-882c-3cca0f7584e9"
      },
      "source": [
        "batch_size = 128\n",
        "num_classes = 10\n",
        "epochs = 2\n",
        "\n",
        "# input image dimensions\n",
        "img_rows, img_cols = 28, 28\n",
        "\n",
        "# the data, shuffled and split between train and test sets\n",
        "(x_train, y_train), (x_test, y_test) = mnist.load_data()\n",
        "\n",
        "if K.image_data_format() == 'channels_first':\n",
        "    x_train = x_train.reshape(x_train.shape[0], 1, img_rows, img_cols)\n",
        "    x_test = x_test.reshape(x_test.shape[0], 1, img_rows, img_cols)\n",
        "    input_shape = (1, img_rows, img_cols)\n",
        "else:\n",
        "    x_train = x_train.reshape(x_train.shape[0], img_rows, img_cols, 1)\n",
        "    x_test = x_test.reshape(x_test.shape[0], img_rows, img_cols, 1)\n",
        "    input_shape = (img_rows, img_cols, 1)\n",
        "\n",
        "x_train = x_train.astype('float32')\n",
        "x_test = x_test.astype('float32')\n",
        "x_train /= 255\n",
        "x_test /= 255\n",
        "print('x_train shape:', x_train.shape)\n",
        "print(x_train.shape[0], 'train samples')\n",
        "print(x_test.shape[0], 'test samples')\n",
        "\n",
        "# convert class vectors to binary class matrices\n",
        "y_train = keras.utils.to_categorical(y_train, num_classes)\n",
        "y_test = keras.utils.to_categorical(y_test, num_classes)"
      ],
      "execution_count": 2,
      "outputs": [
        {
          "output_type": "stream",
          "text": [
            "Downloading data from https://storage.googleapis.com/tensorflow/tf-keras-datasets/mnist.npz\n",
            "11493376/11490434 [==============================] - 0s 0us/step\n",
            "x_train shape: (60000, 28, 28, 1)\n",
            "60000 train samples\n",
            "10000 test samples\n"
          ],
          "name": "stdout"
        }
      ]
    },
    {
      "cell_type": "markdown",
      "metadata": {
        "id": "weHnDsMoczKO"
      },
      "source": [
        "## Part 1: Influence of convolution size\r\n",
        "\r\n",
        "Try the models with different convolution sizes 5x5, 7x7 and 9x9 etc.\r\n",
        "\r\n",
        "Analyze the number of model parameters, accuracy and training time"
      ]
    },
    {
      "cell_type": "markdown",
      "metadata": {
        "id": "xDmQdJkAczKP"
      },
      "source": [
        "### Model with (3 x 3) Convolution"
      ]
    },
    {
      "cell_type": "code",
      "metadata": {
        "trusted": true,
        "id": "_LbhbPPwczKQ",
        "colab": {
          "base_uri": "https://localhost:8080/"
        },
        "outputId": "04e8eb5a-0dc9-4b7e-dcee-1a92fafcff49"
      },
      "source": [
        "K.clear_session() \n",
        "model = Sequential()\n",
        "model.add(Conv2D(8, kernel_size=(3, 3), activation='relu', input_shape=input_shape))\n",
        "model.add(Conv2D(16, (3, 3), activation='relu'))\n",
        "model.add(Flatten())\n",
        "model.add(Dense(32, activation='relu'))\n",
        "model.add(Dense(num_classes, activation='softmax'))\n",
        "model.summary()\n",
        "model.compile(loss=keras.losses.categorical_crossentropy, optimizer=keras.optimizers.Adam(), metrics=['accuracy'])\n",
        "start = timeit.default_timer()\n",
        "model.fit(x_train, y_train, batch_size=batch_size, epochs=epochs, verbose=1, validation_data=(x_test, y_test))\n",
        "score, acc = model.evaluate(x_test, y_test, batch_size=batch_size)\n",
        "end = timeit.default_timer()\n",
        "print('Test accuracy:', acc)\n",
        "print(\"Time Taken to run the model:\",end - start, \"seconds\")"
      ],
      "execution_count": 21,
      "outputs": [
        {
          "output_type": "stream",
          "text": [
            "Model: \"sequential\"\n",
            "_________________________________________________________________\n",
            "Layer (type)                 Output Shape              Param #   \n",
            "=================================================================\n",
            "conv2d (Conv2D)              (None, 26, 26, 8)         80        \n",
            "_________________________________________________________________\n",
            "conv2d_1 (Conv2D)            (None, 24, 24, 16)        1168      \n",
            "_________________________________________________________________\n",
            "flatten (Flatten)            (None, 9216)              0         \n",
            "_________________________________________________________________\n",
            "dense (Dense)                (None, 32)                294944    \n",
            "_________________________________________________________________\n",
            "dense_1 (Dense)              (None, 10)                330       \n",
            "=================================================================\n",
            "Total params: 296,522\n",
            "Trainable params: 296,522\n",
            "Non-trainable params: 0\n",
            "_________________________________________________________________\n",
            "Epoch 1/2\n",
            "469/469 [==============================] - 3s 5ms/step - loss: 0.4577 - accuracy: 0.8637 - val_loss: 0.0744 - val_accuracy: 0.9772\n",
            "Epoch 2/2\n",
            "469/469 [==============================] - 2s 4ms/step - loss: 0.0743 - accuracy: 0.9776 - val_loss: 0.0689 - val_accuracy: 0.9778\n",
            "79/79 [==============================] - 0s 3ms/step - loss: 0.0689 - accuracy: 0.9778\n",
            "Test accuracy: 0.9778000116348267\n",
            "Time Taken to run the model: 4.878852159999951 seconds\n"
          ],
          "name": "stdout"
        }
      ]
    },
    {
      "cell_type": "markdown",
      "metadata": {
        "id": "0DnVhOxDczKS"
      },
      "source": [
        "### Try models with different Convolution sizes"
      ]
    },
    {
      "cell_type": "code",
      "metadata": {
        "trusted": true,
        "id": "oQopxYu5czKT",
        "colab": {
          "base_uri": "https://localhost:8080/"
        },
        "outputId": "d81a3572-4297-4dd7-d3d9-689ffc490497"
      },
      "source": [
        "K.clear_session()\n",
        "start = timeit.default_timer()   \n",
        "model = Sequential()\n",
        "model.add(Conv2D(8, kernel_size=(5, 5), activation='relu', input_shape=input_shape))\n",
        "model.add(Conv2D(16, (5, 5), activation='relu'))\n",
        "model.add(Flatten())\n",
        "model.add(Dense(32, activation='relu'))\n",
        "model.add(Dense(num_classes, activation='softmax'))\n",
        "model.summary()\n",
        "model.compile(loss=keras.losses.categorical_crossentropy, optimizer=keras.optimizers.Adam(), metrics=['accuracy'])\n",
        "model.fit(x_train, y_train, batch_size=batch_size, epochs=epochs, verbose=1, validation_data=(x_test, y_test))\n",
        "score, acc = model.evaluate(x_test, y_test, batch_size=batch_size)\n",
        "end = timeit.default_timer()\n",
        "print('Test accuracy:', acc)\n",
        "print(\"Time Taken to run the model:\",end - start, \"seconds\")  \n"
      ],
      "execution_count": 22,
      "outputs": [
        {
          "output_type": "stream",
          "text": [
            "Model: \"sequential\"\n",
            "_________________________________________________________________\n",
            "Layer (type)                 Output Shape              Param #   \n",
            "=================================================================\n",
            "conv2d (Conv2D)              (None, 24, 24, 8)         208       \n",
            "_________________________________________________________________\n",
            "conv2d_1 (Conv2D)            (None, 20, 20, 16)        3216      \n",
            "_________________________________________________________________\n",
            "flatten (Flatten)            (None, 6400)              0         \n",
            "_________________________________________________________________\n",
            "dense (Dense)                (None, 32)                204832    \n",
            "_________________________________________________________________\n",
            "dense_1 (Dense)              (None, 10)                330       \n",
            "=================================================================\n",
            "Total params: 208,586\n",
            "Trainable params: 208,586\n",
            "Non-trainable params: 0\n",
            "_________________________________________________________________\n",
            "Epoch 1/2\n",
            "469/469 [==============================] - 3s 5ms/step - loss: 0.4822 - accuracy: 0.8608 - val_loss: 0.0734 - val_accuracy: 0.9765\n",
            "Epoch 2/2\n",
            "469/469 [==============================] - 2s 4ms/step - loss: 0.0704 - accuracy: 0.9784 - val_loss: 0.0555 - val_accuracy: 0.9819\n",
            "79/79 [==============================] - 0s 3ms/step - loss: 0.0555 - accuracy: 0.9819\n",
            "Test accuracy: 0.9818999767303467\n",
            "Time Taken to run the model: 4.893595889000153 seconds\n"
          ],
          "name": "stdout"
        }
      ]
    },
    {
      "cell_type": "code",
      "metadata": {
        "id": "oTAM1ojBn4aG",
        "colab": {
          "base_uri": "https://localhost:8080/"
        },
        "outputId": "6b97b016-3e3d-4639-abc8-1d15087c346c"
      },
      "source": [
        "K.clear_session()\r\n",
        "start = timeit.default_timer()   \r\n",
        "model = Sequential()\r\n",
        "model.add(Conv2D(8, kernel_size=(7, 7), activation='relu', input_shape=input_shape))\r\n",
        "model.add(Conv2D(16, (7, 7), activation='relu'))\r\n",
        "model.add(Flatten())\r\n",
        "model.add(Dense(32, activation='relu'))\r\n",
        "model.add(Dense(num_classes, activation='softmax'))\r\n",
        "model.summary()\r\n",
        "model.compile(loss=keras.losses.categorical_crossentropy, optimizer=keras.optimizers.Adam(), metrics=['accuracy'])\r\n",
        "model.fit(x_train, y_train, batch_size=batch_size, epochs=epochs, verbose=1, validation_data=(x_test, y_test))\r\n",
        "score, acc = model.evaluate(x_test, y_test, batch_size=batch_size)\r\n",
        "end = timeit.default_timer()\r\n",
        "print('Test accuracy:', acc)\r\n",
        "print(\"Time Taken to run the model:\",end - start, \"seconds\")  \r\n"
      ],
      "execution_count": 23,
      "outputs": [
        {
          "output_type": "stream",
          "text": [
            "Model: \"sequential\"\n",
            "_________________________________________________________________\n",
            "Layer (type)                 Output Shape              Param #   \n",
            "=================================================================\n",
            "conv2d (Conv2D)              (None, 22, 22, 8)         400       \n",
            "_________________________________________________________________\n",
            "conv2d_1 (Conv2D)            (None, 16, 16, 16)        6288      \n",
            "_________________________________________________________________\n",
            "flatten (Flatten)            (None, 4096)              0         \n",
            "_________________________________________________________________\n",
            "dense (Dense)                (None, 32)                131104    \n",
            "_________________________________________________________________\n",
            "dense_1 (Dense)              (None, 10)                330       \n",
            "=================================================================\n",
            "Total params: 138,122\n",
            "Trainable params: 138,122\n",
            "Non-trainable params: 0\n",
            "_________________________________________________________________\n",
            "Epoch 1/2\n",
            "469/469 [==============================] - 2s 4ms/step - loss: 0.4934 - accuracy: 0.8485 - val_loss: 0.0715 - val_accuracy: 0.9762\n",
            "Epoch 2/2\n",
            "469/469 [==============================] - 2s 4ms/step - loss: 0.0733 - accuracy: 0.9782 - val_loss: 0.0558 - val_accuracy: 0.9826\n",
            "79/79 [==============================] - 0s 2ms/step - loss: 0.0558 - accuracy: 0.9826\n",
            "Test accuracy: 0.9825999736785889\n",
            "Time Taken to run the model: 4.419941024999844 seconds\n"
          ],
          "name": "stdout"
        }
      ]
    },
    {
      "cell_type": "code",
      "metadata": {
        "id": "PNOb8hDrn416",
        "colab": {
          "base_uri": "https://localhost:8080/"
        },
        "outputId": "b9eca8e3-7319-46a4-81d9-7cdec8d45493"
      },
      "source": [
        "K.clear_session()\r\n",
        "start = timeit.default_timer()   \r\n",
        "model = Sequential()\r\n",
        "model.add(Conv2D(8, kernel_size=(3, 3), activation='relu', input_shape=input_shape))\r\n",
        "model.add(Conv2D(16, (9, 9), activation='relu'))\r\n",
        "model.add(Flatten())\r\n",
        "model.add(Dense(32, activation='relu'))\r\n",
        "model.add(Dense(num_classes, activation='softmax'))\r\n",
        "model.summary()\r\n",
        "model.compile(loss=keras.losses.categorical_crossentropy, optimizer=keras.optimizers.Adam(), metrics=['accuracy'])\r\n",
        "model.fit(x_train, y_train, batch_size=batch_size, epochs=epochs, verbose=1, validation_data=(x_test, y_test))\r\n",
        "score, acc = model.evaluate(x_test, y_test, batch_size=batch_size)\r\n",
        "end = timeit.default_timer()\r\n",
        "print('Test accuracy:', acc)\r\n",
        "print(\"Time Taken to run the model:\",end - start, \"seconds\")  \r\n"
      ],
      "execution_count": 24,
      "outputs": [
        {
          "output_type": "stream",
          "text": [
            "Model: \"sequential\"\n",
            "_________________________________________________________________\n",
            "Layer (type)                 Output Shape              Param #   \n",
            "=================================================================\n",
            "conv2d (Conv2D)              (None, 26, 26, 8)         80        \n",
            "_________________________________________________________________\n",
            "conv2d_1 (Conv2D)            (None, 18, 18, 16)        10384     \n",
            "_________________________________________________________________\n",
            "flatten (Flatten)            (None, 5184)              0         \n",
            "_________________________________________________________________\n",
            "dense (Dense)                (None, 32)                165920    \n",
            "_________________________________________________________________\n",
            "dense_1 (Dense)              (None, 10)                330       \n",
            "=================================================================\n",
            "Total params: 176,714\n",
            "Trainable params: 176,714\n",
            "Non-trainable params: 0\n",
            "_________________________________________________________________\n",
            "Epoch 1/2\n",
            "469/469 [==============================] - 3s 5ms/step - loss: 0.4782 - accuracy: 0.8552 - val_loss: 0.0554 - val_accuracy: 0.9822\n",
            "Epoch 2/2\n",
            "469/469 [==============================] - 2s 4ms/step - loss: 0.0630 - accuracy: 0.9810 - val_loss: 0.0428 - val_accuracy: 0.9859\n",
            "79/79 [==============================] - 0s 3ms/step - loss: 0.0428 - accuracy: 0.9859\n",
            "Test accuracy: 0.9858999848365784\n",
            "Time Taken to run the model: 4.8116716320000705 seconds\n"
          ],
          "name": "stdout"
        }
      ]
    },
    {
      "cell_type": "markdown",
      "metadata": {
        "id": "ONNy-NSdoB69"
      },
      "source": [
        "### Write your findings about activations here?\r\n",
        "\r\n",
        "1.   We can clearly see that increasing convolution size decreases the number of trainable parameters until 7x7 sized convolution and increased in 9x9. The training time also showed non-linear change. It decreased until 7x7 sized convolution and increased in 9x9. \r\n",
        "2.   Accuracy showed linear change. When we increase the size of convolution, accuracy increased too.\r\n",
        "\r\n",
        "\r\n"
      ]
    },
    {
      "cell_type": "markdown",
      "metadata": {
        "id": "nbjj4YUAczKW"
      },
      "source": [
        "## Part 2: Influence of Striding\r\n",
        "\r\n",
        "Try the models with different stride sizes such as 2,3,4 etc.\r\n",
        "\r\n",
        "Analyze the number of model parameters, accuracy and training time"
      ]
    },
    {
      "cell_type": "markdown",
      "metadata": {
        "id": "pr45UR1uczKW"
      },
      "source": [
        "### Model with Convolution with 2 Steps"
      ]
    },
    {
      "cell_type": "code",
      "metadata": {
        "trusted": true,
        "id": "CUB3Zt_9czKX",
        "colab": {
          "base_uri": "https://localhost:8080/"
        },
        "outputId": "67b6a949-c299-4914-da4c-2ccf16ff52a0"
      },
      "source": [
        "start = timeit.default_timer()   \n",
        "model = Sequential()\n",
        "model.add(Conv2D(8, kernel_size=(3, 3), strides=2, activation='relu', input_shape=input_shape))\n",
        "model.add(Conv2D(16, (3, 3), strides=2, activation='relu'))\n",
        "model.add(Flatten())\n",
        "model.add(Dense(32, activation='relu'))\n",
        "model.add(Dense(num_classes, activation='softmax'))\n",
        "model.summary()\n",
        "model.compile(loss=keras.losses.categorical_crossentropy, optimizer=keras.optimizers.Adam(), metrics=['accuracy'])\n",
        "model.fit(x_train, y_train, batch_size=batch_size, epochs=epochs, verbose=1, validation_data=(x_test, y_test))\n",
        "score, acc = model.evaluate(x_test, y_test, batch_size=batch_size)\n",
        "end = timeit.default_timer()\n",
        "print('Test accuracy:', acc)\n",
        "print(\"Time Taken to run the model:\",end - start, \"seconds\")  "
      ],
      "execution_count": 25,
      "outputs": [
        {
          "output_type": "stream",
          "text": [
            "Model: \"sequential_1\"\n",
            "_________________________________________________________________\n",
            "Layer (type)                 Output Shape              Param #   \n",
            "=================================================================\n",
            "conv2d_2 (Conv2D)            (None, 13, 13, 8)         80        \n",
            "_________________________________________________________________\n",
            "conv2d_3 (Conv2D)            (None, 6, 6, 16)          1168      \n",
            "_________________________________________________________________\n",
            "flatten_1 (Flatten)          (None, 576)               0         \n",
            "_________________________________________________________________\n",
            "dense_2 (Dense)              (None, 32)                18464     \n",
            "_________________________________________________________________\n",
            "dense_3 (Dense)              (None, 10)                330       \n",
            "=================================================================\n",
            "Total params: 20,042\n",
            "Trainable params: 20,042\n",
            "Non-trainable params: 0\n",
            "_________________________________________________________________\n",
            "Epoch 1/2\n",
            "469/469 [==============================] - 2s 4ms/step - loss: 0.9499 - accuracy: 0.7005 - val_loss: 0.1901 - val_accuracy: 0.9449\n",
            "Epoch 2/2\n",
            "469/469 [==============================] - 2s 4ms/step - loss: 0.1770 - accuracy: 0.9487 - val_loss: 0.1187 - val_accuracy: 0.9647\n",
            "79/79 [==============================] - 0s 3ms/step - loss: 0.1187 - accuracy: 0.9647\n",
            "Test accuracy: 0.9646999835968018\n",
            "Time Taken to run the model: 4.559287178999966 seconds\n"
          ],
          "name": "stdout"
        }
      ]
    },
    {
      "cell_type": "code",
      "metadata": {
        "id": "yG03EwvJovUK",
        "colab": {
          "base_uri": "https://localhost:8080/"
        },
        "outputId": "33fd8d54-51d2-46c3-9969-2fe5659cd7ae"
      },
      "source": [
        "start = timeit.default_timer()   \r\n",
        "model = Sequential()\r\n",
        "model.add(Conv2D(8, kernel_size=(3, 3), strides=3, activation='relu', input_shape=input_shape))\r\n",
        "model.add(Conv2D(16, (3, 3), strides=2, activation='relu'))\r\n",
        "model.add(Flatten())\r\n",
        "model.add(Dense(32, activation='relu'))\r\n",
        "model.add(Dense(num_classes, activation='softmax'))\r\n",
        "model.summary()\r\n",
        "model.compile(loss=keras.losses.categorical_crossentropy, optimizer=keras.optimizers.Adam(), metrics=['accuracy'])\r\n",
        "model.fit(x_train, y_train, batch_size=batch_size, epochs=epochs, verbose=1, validation_data=(x_test, y_test))\r\n",
        "score, acc = model.evaluate(x_test, y_test, batch_size=batch_size)\r\n",
        "end = timeit.default_timer()\r\n",
        "print('Test accuracy:', acc)\r\n",
        "print(\"Time Taken to run the model:\",end - start, \"seconds\")  "
      ],
      "execution_count": 28,
      "outputs": [
        {
          "output_type": "stream",
          "text": [
            "Model: \"sequential_2\"\n",
            "_________________________________________________________________\n",
            "Layer (type)                 Output Shape              Param #   \n",
            "=================================================================\n",
            "conv2d_4 (Conv2D)            (None, 9, 9, 8)           80        \n",
            "_________________________________________________________________\n",
            "conv2d_5 (Conv2D)            (None, 4, 4, 16)          1168      \n",
            "_________________________________________________________________\n",
            "flatten_2 (Flatten)          (None, 256)               0         \n",
            "_________________________________________________________________\n",
            "dense_4 (Dense)              (None, 32)                8224      \n",
            "_________________________________________________________________\n",
            "dense_5 (Dense)              (None, 10)                330       \n",
            "=================================================================\n",
            "Total params: 9,802\n",
            "Trainable params: 9,802\n",
            "Non-trainable params: 0\n",
            "_________________________________________________________________\n",
            "Epoch 1/2\n",
            "469/469 [==============================] - 2s 4ms/step - loss: 1.0511 - accuracy: 0.6772 - val_loss: 0.2499 - val_accuracy: 0.9284\n",
            "Epoch 2/2\n",
            "469/469 [==============================] - 2s 3ms/step - loss: 0.2337 - accuracy: 0.9312 - val_loss: 0.1807 - val_accuracy: 0.9481\n",
            "79/79 [==============================] - 0s 2ms/step - loss: 0.1807 - accuracy: 0.9481\n",
            "Test accuracy: 0.9480999708175659\n",
            "Time Taken to run the model: 4.1516758960001425 seconds\n"
          ],
          "name": "stdout"
        }
      ]
    },
    {
      "cell_type": "code",
      "metadata": {
        "id": "Ypo87ms7owJX",
        "colab": {
          "base_uri": "https://localhost:8080/"
        },
        "outputId": "15435561-0af6-4487-de0f-124b411cda2d"
      },
      "source": [
        "start = timeit.default_timer()   \r\n",
        "model = Sequential()\r\n",
        "model.add(Conv2D(8, kernel_size=(3, 3), strides=4, activation='relu', input_shape=input_shape))\r\n",
        "model.add(Conv2D(16, (3, 3), strides=2, activation='relu'))\r\n",
        "model.add(Flatten())\r\n",
        "model.add(Dense(32, activation='relu'))\r\n",
        "model.add(Dense(num_classes, activation='softmax'))\r\n",
        "model.summary()\r\n",
        "model.compile(loss=keras.losses.categorical_crossentropy, optimizer=keras.optimizers.Adam(), metrics=['accuracy'])\r\n",
        "model.fit(x_train, y_train, batch_size=batch_size, epochs=epochs, verbose=1, validation_data=(x_test, y_test))\r\n",
        "score, acc = model.evaluate(x_test, y_test, batch_size=batch_size)\r\n",
        "end = timeit.default_timer()\r\n",
        "print('Test accuracy:', acc)\r\n",
        "print(\"Time Taken to run the model:\",end - start, \"seconds\")  "
      ],
      "execution_count": 29,
      "outputs": [
        {
          "output_type": "stream",
          "text": [
            "Model: \"sequential_3\"\n",
            "_________________________________________________________________\n",
            "Layer (type)                 Output Shape              Param #   \n",
            "=================================================================\n",
            "conv2d_6 (Conv2D)            (None, 7, 7, 8)           80        \n",
            "_________________________________________________________________\n",
            "conv2d_7 (Conv2D)            (None, 3, 3, 16)          1168      \n",
            "_________________________________________________________________\n",
            "flatten_3 (Flatten)          (None, 144)               0         \n",
            "_________________________________________________________________\n",
            "dense_6 (Dense)              (None, 32)                4640      \n",
            "_________________________________________________________________\n",
            "dense_7 (Dense)              (None, 10)                330       \n",
            "=================================================================\n",
            "Total params: 6,218\n",
            "Trainable params: 6,218\n",
            "Non-trainable params: 0\n",
            "_________________________________________________________________\n",
            "Epoch 1/2\n",
            "469/469 [==============================] - 2s 4ms/step - loss: 1.2507 - accuracy: 0.6263 - val_loss: 0.3242 - val_accuracy: 0.9086\n",
            "Epoch 2/2\n",
            "469/469 [==============================] - 2s 3ms/step - loss: 0.3001 - accuracy: 0.9128 - val_loss: 0.2274 - val_accuracy: 0.9346\n",
            "79/79 [==============================] - 0s 2ms/step - loss: 0.2274 - accuracy: 0.9346\n",
            "Test accuracy: 0.9345999956130981\n",
            "Time Taken to run the model: 3.912895664000189 seconds\n"
          ],
          "name": "stdout"
        }
      ]
    },
    {
      "cell_type": "markdown",
      "metadata": {
        "id": "6nH_wTLUoDJH"
      },
      "source": [
        "### Write your findings about influence of striding here?\r\n",
        "\r\n",
        "1.   Accuracy and number of trainable parameters inversely proportional with the size of stride and training time is directly proportional with size of stride.\r\n",
        "2.   It depends on the task which we should choose to sacrifice, 25% of time/computation power or 3% of accuracy.\r\n",
        "\r\n",
        "\r\n"
      ]
    },
    {
      "cell_type": "markdown",
      "metadata": {
        "id": "vsIaUMRIczKb"
      },
      "source": [
        "## Part 3: Influence of Padding\r\n",
        "\r\n",
        "Try the models with padding and without padding.\r\n",
        "\r\n",
        "Analyze the number of model parameters, accuracy and training time"
      ]
    },
    {
      "cell_type": "markdown",
      "metadata": {
        "id": "C8GP6BmVczKd"
      },
      "source": [
        "### Model with (3 x 3) Convolution with Same Padding"
      ]
    },
    {
      "cell_type": "code",
      "metadata": {
        "trusted": true,
        "id": "SZNcZ0BoczKe",
        "colab": {
          "base_uri": "https://localhost:8080/"
        },
        "outputId": "887b77fd-b453-41b0-9f8b-3d3be1a87c1b"
      },
      "source": [
        "start = timeit.default_timer()   \n",
        "model = Sequential()\n",
        "model.add(Conv2D(8, kernel_size=(3, 3), strides=1, padding='same', activation='relu', input_shape=input_shape))\n",
        "model.add(Conv2D(16, (3, 3), strides=1, padding='same', activation='relu'))\n",
        "model.add(Flatten())\n",
        "model.add(Dense(32, activation='relu'))\n",
        "model.add(Dense(num_classes, activation='softmax'))\n",
        "model.summary()\n",
        "model.compile(loss=keras.losses.categorical_crossentropy, optimizer=keras.optimizers.Adam(), metrics=['accuracy'])\n",
        "model.fit(x_train, y_train, batch_size=batch_size, epochs=epochs, verbose=1, validation_data=(x_test, y_test))\n",
        "score, acc = model.evaluate(x_test, y_test, batch_size=batch_size)\n",
        "end = timeit.default_timer()\n",
        "print('Test accuracy:', acc)\n",
        "print(\"Time Taken to run the model:\",end - start, \"seconds\")"
      ],
      "execution_count": 33,
      "outputs": [
        {
          "output_type": "stream",
          "text": [
            "Model: \"sequential_7\"\n",
            "_________________________________________________________________\n",
            "Layer (type)                 Output Shape              Param #   \n",
            "=================================================================\n",
            "conv2d_14 (Conv2D)           (None, 28, 28, 8)         80        \n",
            "_________________________________________________________________\n",
            "conv2d_15 (Conv2D)           (None, 28, 28, 16)        1168      \n",
            "_________________________________________________________________\n",
            "flatten_7 (Flatten)          (None, 12544)             0         \n",
            "_________________________________________________________________\n",
            "dense_14 (Dense)             (None, 32)                401440    \n",
            "_________________________________________________________________\n",
            "dense_15 (Dense)             (None, 10)                330       \n",
            "=================================================================\n",
            "Total params: 403,018\n",
            "Trainable params: 403,018\n",
            "Non-trainable params: 0\n",
            "_________________________________________________________________\n",
            "Epoch 1/2\n",
            "469/469 [==============================] - 2s 4ms/step - loss: 0.4548 - accuracy: 0.8657 - val_loss: 0.1013 - val_accuracy: 0.9683\n",
            "Epoch 2/2\n",
            "469/469 [==============================] - 2s 4ms/step - loss: 0.0784 - accuracy: 0.9766 - val_loss: 0.0512 - val_accuracy: 0.9827\n",
            "79/79 [==============================] - 0s 2ms/step - loss: 0.0512 - accuracy: 0.9827\n",
            "Test accuracy: 0.982699990272522\n",
            "Time Taken to run the model: 4.648490133999985 seconds\n"
          ],
          "name": "stdout"
        }
      ]
    },
    {
      "cell_type": "code",
      "metadata": {
        "id": "lKKnUSgJo0R2",
        "colab": {
          "base_uri": "https://localhost:8080/"
        },
        "outputId": "a890fc6e-a8e5-47c0-bb13-f4d81a623d79"
      },
      "source": [
        "start = timeit.default_timer()   \r\n",
        "model = Sequential()\r\n",
        "model.add(Conv2D(8, kernel_size=(3, 3), strides=1, padding='valid', activation='relu', input_shape=input_shape))\r\n",
        "model.add(Conv2D(16, (3, 3), strides=1, padding='valid', activation='relu'))\r\n",
        "model.add(Flatten())\r\n",
        "model.add(Dense(32, activation='relu'))\r\n",
        "model.add(Dense(num_classes, activation='softmax'))\r\n",
        "model.summary()\r\n",
        "model.compile(loss=keras.losses.categorical_crossentropy, optimizer=keras.optimizers.Adam(), metrics=['accuracy'])\r\n",
        "model.fit(x_train, y_train, batch_size=batch_size, epochs=epochs, verbose=1, validation_data=(x_test, y_test))\r\n",
        "score, acc = model.evaluate(x_test, y_test, batch_size=batch_size)\r\n",
        "end = timeit.default_timer()\r\n",
        "print('Test accuracy:', acc)\r\n",
        "print(\"Time Taken to run the model:\",end - start, \"seconds\")  "
      ],
      "execution_count": 34,
      "outputs": [
        {
          "output_type": "stream",
          "text": [
            "Model: \"sequential_8\"\n",
            "_________________________________________________________________\n",
            "Layer (type)                 Output Shape              Param #   \n",
            "=================================================================\n",
            "conv2d_16 (Conv2D)           (None, 26, 26, 8)         80        \n",
            "_________________________________________________________________\n",
            "conv2d_17 (Conv2D)           (None, 24, 24, 16)        1168      \n",
            "_________________________________________________________________\n",
            "flatten_8 (Flatten)          (None, 9216)              0         \n",
            "_________________________________________________________________\n",
            "dense_16 (Dense)             (None, 32)                294944    \n",
            "_________________________________________________________________\n",
            "dense_17 (Dense)             (None, 10)                330       \n",
            "=================================================================\n",
            "Total params: 296,522\n",
            "Trainable params: 296,522\n",
            "Non-trainable params: 0\n",
            "_________________________________________________________________\n",
            "Epoch 1/2\n",
            "469/469 [==============================] - 2s 4ms/step - loss: 0.5296 - accuracy: 0.8460 - val_loss: 0.0923 - val_accuracy: 0.9711\n",
            "Epoch 2/2\n",
            "469/469 [==============================] - 2s 4ms/step - loss: 0.0766 - accuracy: 0.9769 - val_loss: 0.0597 - val_accuracy: 0.9800\n",
            "79/79 [==============================] - 0s 3ms/step - loss: 0.0597 - accuracy: 0.9800\n",
            "Test accuracy: 0.9800000190734863\n",
            "Time Taken to run the model: 4.585634609000408 seconds\n"
          ],
          "name": "stdout"
        }
      ]
    },
    {
      "cell_type": "markdown",
      "metadata": {
        "id": "xp-yZFx4oEqt"
      },
      "source": [
        "### Write your findings about influence of padding here?\r\n",
        "\r\n",
        "1.   Pandding effects accuracy slightly, it increases accuracy 0.26% in this particular model.\r\n",
        "2.   Training time is effected as ~0.1 seconds, it lasts longer when padding is applied. Number of trainable parameters increased almost twice by applying padding.\r\n",
        "\r\n",
        "\r\n"
      ]
    },
    {
      "cell_type": "markdown",
      "metadata": {
        "id": "KvGFyAkjczKj"
      },
      "source": [
        "## Part 4: Influence of Pooling\r\n",
        "\r\n",
        "Try the models with different pooling window sizes such as 2x2, 3x3, 4x4 etc.\r\n",
        "\r\n",
        "Analyze the number of model parameters, accuracy and training time"
      ]
    },
    {
      "cell_type": "markdown",
      "metadata": {
        "id": "R1W63cBLczKk"
      },
      "source": [
        "### Model with (3 x 3) Convolution with Pooling (2 x 2) "
      ]
    },
    {
      "cell_type": "code",
      "metadata": {
        "trusted": true,
        "id": "-qOGWya1czKl",
        "colab": {
          "base_uri": "https://localhost:8080/"
        },
        "outputId": "172ffd88-08be-44f1-88aa-cfdef7911208"
      },
      "source": [
        "start = timeit.default_timer()   \n",
        "model = Sequential()\n",
        "model.add(Conv2D(8, kernel_size=(3, 3), activation='relu', input_shape=input_shape))\n",
        "model.add(MaxPooling2D(pool_size=(2, 2)))\n",
        "model.add(Conv2D(16, (3, 3), activation='relu'))\n",
        "model.add(MaxPooling2D(pool_size=(2, 2)))\n",
        "model.add(Flatten())\n",
        "model.add(Dense(32, activation='relu'))\n",
        "model.add(Dense(num_classes, activation='softmax'))\n",
        "model.summary()\n",
        "model.compile(loss=keras.losses.categorical_crossentropy, optimizer=keras.optimizers.Adam(), metrics=['accuracy'])\n",
        "model.fit(x_train, y_train, batch_size=batch_size, epochs=epochs, verbose=1, validation_data=(x_test, y_test))\n",
        "end = timeit.default_timer()\n",
        "print(\"Time Taken to run the model:\",end - start, \"seconds\")  "
      ],
      "execution_count": 12,
      "outputs": [
        {
          "output_type": "stream",
          "text": [
            "Model: \"sequential_6\"\n",
            "_________________________________________________________________\n",
            "Layer (type)                 Output Shape              Param #   \n",
            "=================================================================\n",
            "conv2d_12 (Conv2D)           (None, 26, 26, 8)         80        \n",
            "_________________________________________________________________\n",
            "max_pooling2d (MaxPooling2D) (None, 13, 13, 8)         0         \n",
            "_________________________________________________________________\n",
            "conv2d_13 (Conv2D)           (None, 11, 11, 16)        1168      \n",
            "_________________________________________________________________\n",
            "max_pooling2d_1 (MaxPooling2 (None, 5, 5, 16)          0         \n",
            "_________________________________________________________________\n",
            "flatten_6 (Flatten)          (None, 400)               0         \n",
            "_________________________________________________________________\n",
            "dense_12 (Dense)             (None, 32)                12832     \n",
            "_________________________________________________________________\n",
            "dense_13 (Dense)             (None, 10)                330       \n",
            "=================================================================\n",
            "Total params: 14,410\n",
            "Trainable params: 14,410\n",
            "Non-trainable params: 0\n",
            "_________________________________________________________________\n",
            "Epoch 1/2\n",
            "469/469 [==============================] - 2s 4ms/step - loss: 0.9375 - accuracy: 0.7110 - val_loss: 0.1387 - val_accuracy: 0.9582\n",
            "Epoch 2/2\n",
            "469/469 [==============================] - 2s 4ms/step - loss: 0.1411 - accuracy: 0.9585 - val_loss: 0.0896 - val_accuracy: 0.9730\n",
            "Time Taken to run the model: 4.2109604689999856 seconds\n"
          ],
          "name": "stdout"
        }
      ]
    },
    {
      "cell_type": "markdown",
      "metadata": {
        "id": "BUBHv14oczKp"
      },
      "source": [
        "### Model with (3 x 3) Convolution with Pooling (3 x 3) "
      ]
    },
    {
      "cell_type": "code",
      "metadata": {
        "trusted": true,
        "id": "z3iYWjRDczKr",
        "colab": {
          "base_uri": "https://localhost:8080/"
        },
        "outputId": "9dcd8f18-fa2f-4dd6-e352-674d361e5122"
      },
      "source": [
        "start = timeit.default_timer()   \n",
        "model = Sequential()\n",
        "model.add(Conv2D(8, kernel_size=(3, 3), activation='relu', input_shape=input_shape))\n",
        "model.add(MaxPooling2D(pool_size=(3, 3)))\n",
        "model.add(Conv2D(16, (3, 3), activation='relu'))\n",
        "model.add(MaxPooling2D(pool_size=(3, 3)))\n",
        "model.add(Flatten())\n",
        "model.add(Dense(32, activation='relu'))\n",
        "model.add(Dense(num_classes, activation='softmax'))\n",
        "model.summary()\n",
        "model.compile(loss=keras.losses.categorical_crossentropy, optimizer=keras.optimizers.Adam(), metrics=['accuracy'])\n",
        "model.fit(x_train, y_train, batch_size=batch_size, epochs=epochs, verbose=1, validation_data=(x_test, y_test))\n",
        "end = timeit.default_timer()\n",
        "print(\"Time Taken to run the model:\",end - start, \"seconds\")  "
      ],
      "execution_count": 13,
      "outputs": [
        {
          "output_type": "stream",
          "text": [
            "Model: \"sequential_7\"\n",
            "_________________________________________________________________\n",
            "Layer (type)                 Output Shape              Param #   \n",
            "=================================================================\n",
            "conv2d_14 (Conv2D)           (None, 26, 26, 8)         80        \n",
            "_________________________________________________________________\n",
            "max_pooling2d_2 (MaxPooling2 (None, 8, 8, 8)           0         \n",
            "_________________________________________________________________\n",
            "conv2d_15 (Conv2D)           (None, 6, 6, 16)          1168      \n",
            "_________________________________________________________________\n",
            "max_pooling2d_3 (MaxPooling2 (None, 2, 2, 16)          0         \n",
            "_________________________________________________________________\n",
            "flatten_7 (Flatten)          (None, 64)                0         \n",
            "_________________________________________________________________\n",
            "dense_14 (Dense)             (None, 32)                2080      \n",
            "_________________________________________________________________\n",
            "dense_15 (Dense)             (None, 10)                330       \n",
            "=================================================================\n",
            "Total params: 3,658\n",
            "Trainable params: 3,658\n",
            "Non-trainable params: 0\n",
            "_________________________________________________________________\n",
            "Epoch 1/2\n",
            "469/469 [==============================] - 2s 4ms/step - loss: 1.3097 - accuracy: 0.6066 - val_loss: 0.1831 - val_accuracy: 0.9480\n",
            "Epoch 2/2\n",
            "469/469 [==============================] - 2s 4ms/step - loss: 0.1831 - accuracy: 0.9445 - val_loss: 0.1247 - val_accuracy: 0.9637\n",
            "Time Taken to run the model: 4.246407309000006 seconds\n"
          ],
          "name": "stdout"
        }
      ]
    },
    {
      "cell_type": "markdown",
      "metadata": {
        "id": "MjyzBmNknrJ5"
      },
      "source": [
        "### Model with (3 x 3) Convolution with Pooling (4 x 4) "
      ]
    },
    {
      "cell_type": "code",
      "metadata": {
        "id": "4fsnp2wMpfTP",
        "colab": {
          "base_uri": "https://localhost:8080/"
        },
        "outputId": "47cb8d5b-39be-4097-8422-68fb05f9186e"
      },
      "source": [
        "start = timeit.default_timer()   \r\n",
        "model = Sequential()\r\n",
        "model.add(Conv2D(8, kernel_size=(3, 3), activation='relu', input_shape=input_shape))\r\n",
        "model.add(MaxPooling2D(pool_size=(4, 4)))\r\n",
        "model.add(Conv2D(16, (3, 3), activation='relu'))\r\n",
        "model.add(MaxPooling2D(pool_size=(4, 4)))\r\n",
        "model.add(Flatten())\r\n",
        "model.add(Dense(32, activation='relu'))\r\n",
        "model.add(Dense(num_classes, activation='softmax'))\r\n",
        "model.summary()\r\n",
        "model.compile(loss=keras.losses.categorical_crossentropy, optimizer=keras.optimizers.Adam(), metrics=['accuracy'])\r\n",
        "model.fit(x_train, y_train, batch_size=batch_size, epochs=epochs, verbose=1, validation_data=(x_test, y_test))\r\n",
        "end = timeit.default_timer()\r\n",
        "print(\"Time Taken to run the model:\",end - start, \"seconds\")  "
      ],
      "execution_count": 14,
      "outputs": [
        {
          "output_type": "stream",
          "text": [
            "Model: \"sequential_8\"\n",
            "_________________________________________________________________\n",
            "Layer (type)                 Output Shape              Param #   \n",
            "=================================================================\n",
            "conv2d_16 (Conv2D)           (None, 26, 26, 8)         80        \n",
            "_________________________________________________________________\n",
            "max_pooling2d_4 (MaxPooling2 (None, 6, 6, 8)           0         \n",
            "_________________________________________________________________\n",
            "conv2d_17 (Conv2D)           (None, 4, 4, 16)          1168      \n",
            "_________________________________________________________________\n",
            "max_pooling2d_5 (MaxPooling2 (None, 1, 1, 16)          0         \n",
            "_________________________________________________________________\n",
            "flatten_8 (Flatten)          (None, 16)                0         \n",
            "_________________________________________________________________\n",
            "dense_16 (Dense)             (None, 32)                544       \n",
            "_________________________________________________________________\n",
            "dense_17 (Dense)             (None, 10)                330       \n",
            "=================================================================\n",
            "Total params: 2,122\n",
            "Trainable params: 2,122\n",
            "Non-trainable params: 0\n",
            "_________________________________________________________________\n",
            "Epoch 1/2\n",
            "469/469 [==============================] - 2s 4ms/step - loss: 1.6672 - accuracy: 0.4507 - val_loss: 0.5958 - val_accuracy: 0.8048\n",
            "Epoch 2/2\n",
            "469/469 [==============================] - 2s 4ms/step - loss: 0.5191 - accuracy: 0.8360 - val_loss: 0.3602 - val_accuracy: 0.8896\n",
            "Time Taken to run the model: 4.239360578999992 seconds\n"
          ],
          "name": "stdout"
        }
      ]
    },
    {
      "cell_type": "markdown",
      "metadata": {
        "id": "GCBC1uTjoGQB"
      },
      "source": [
        "### Write your findings about influence of pooling here?\r\n",
        "\r\n",
        "1.   Effects of pooling on training time showed non-linear change. It increased first, then decreased slightly. \r\n",
        "2.   The accuracy and number of trainable parameters effected negatively by pooling. They both decreased clearly.\r\n",
        "\r\n",
        "\r\n"
      ]
    },
    {
      "cell_type": "markdown",
      "metadata": {
        "id": "UJJThSoznIJI"
      },
      "source": [
        "# **All examples above, I got very low accuracy values with optimizer Adadelta. So I had to change it to Adam.** "
      ]
    }
  ]
}